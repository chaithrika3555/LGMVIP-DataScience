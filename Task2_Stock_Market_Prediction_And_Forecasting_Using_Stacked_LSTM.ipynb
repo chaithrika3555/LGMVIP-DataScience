{
  "nbformat": 4,
  "nbformat_minor": 0,
  "metadata": {
    "colab": {
      "provenance": []
    },
    "kernelspec": {
      "name": "python3",
      "display_name": "Python 3"
    },
    "language_info": {
      "name": "python"
    }
  },
  "cells": [
    {
      "cell_type": "markdown",
      "source": [
        "# task2\n",
        "**Stock Market Prediction And Forecasting.Using Stacked LSTM**\n",
        "\n",
        "Datasetlinks:\n",
        "\n",
        "https://raw.githubusercontent.com/ mwitiderrick/stockprice/master/NSE"
      ],
      "metadata": {
        "id": "BWLdmPtLpfZW"
      }
    },
    {
      "cell_type": "markdown",
      "source": [
        "**Importing all required libraries**"
      ],
      "metadata": {
        "id": "UW6dSj1TpZt0"
      }
    },
    {
      "cell_type": "code",
      "source": [
        "from sklearn.preprocessing import MinMaxScaler\n",
        "from tensorflow.keras.models import Sequential\n",
        "from tensorflow.keras.layers import Dense\n",
        "from tensorflow.keras.layers import LSTM\n",
        "from sklearn.metrics import mean_squared_error\n",
        "\n",
        "import matplotlib.pyplot as plt\n",
        "import seaborn as sns\n",
        "import warnings \n",
        "import pandas as pd\n",
        "import numpy as np\n",
        "import math \n",
        "warnings.filterwarnings('ignore')"
      ],
      "metadata": {
        "id": "7fDv2k0hmKjt"
      },
      "execution_count": null,
      "outputs": []
    },
    {
      "cell_type": "markdown",
      "source": [
        "**Loading dataset**"
      ],
      "metadata": {
        "id": "2umOIgK4rgB4"
      }
    },
    {
      "cell_type": "code",
      "source": [
        "data=pd.read_csv(\"/content/drive/MyDrive/datasets/stockmarket.csv\")"
      ],
      "metadata": {
        "id": "BUOnjppYmPoD"
      },
      "execution_count": null,
      "outputs": []
    },
    {
      "cell_type": "code",
      "source": [
        "data=data.replace('[^\\d.]','',regex=True).astype(float)"
      ],
      "metadata": {
        "id": "u66d_3ObmVfy"
      },
      "execution_count": null,
      "outputs": []
    },
    {
      "cell_type": "code",
      "source": [
        "data"
      ],
      "metadata": {
        "colab": {
          "base_uri": "https://localhost:8080/",
          "height": 424
        },
        "id": "QwWFoVDFm3z9",
        "outputId": "a2effe5f-e1b4-401c-f3b6-b24e14a42230"
      },
      "execution_count": null,
      "outputs": [
        {
          "output_type": "execute_result",
          "data": {
            "text/plain": [
              "            Date    Open    High     Low    Last   Close  \\\n",
              "0     20180928.0  234.05  235.95  230.20  233.50  233.75   \n",
              "1     20180927.0  234.55  236.80  231.10  233.80  233.25   \n",
              "2     20180926.0  240.00  240.00  232.50  235.00  234.25   \n",
              "3     20180925.0  233.30  236.75  232.00  236.25  236.10   \n",
              "4     20180924.0  233.55  239.20  230.75  234.00  233.30   \n",
              "...          ...     ...     ...     ...     ...     ...   \n",
              "2030  20100727.0  117.60  119.50  112.00  118.80  118.65   \n",
              "2031  20100726.0  120.10  121.00  117.10  117.10  117.60   \n",
              "2032  20100723.0  121.80  121.95  120.25  120.35  120.65   \n",
              "2033  20100722.0  120.30  122.00  120.25  120.75  120.90   \n",
              "2034  20100721.0  122.10  123.00  121.05  121.10  121.55   \n",
              "\n",
              "      Total Trade Quantity  Turnover (Lacs)  \n",
              "0                3069914.0          7162.35  \n",
              "1                5082859.0         11859.95  \n",
              "2                2240909.0          5248.60  \n",
              "3                2349368.0          5503.90  \n",
              "4                3423509.0          7999.55  \n",
              "...                    ...              ...  \n",
              "2030              586100.0           694.98  \n",
              "2031              658440.0           780.01  \n",
              "2032              281312.0           340.31  \n",
              "2033              293312.0           355.17  \n",
              "2034              658666.0           803.56  \n",
              "\n",
              "[2035 rows x 8 columns]"
            ],
            "text/html": [
              "\n",
              "  <div id=\"df-719dd29e-4b71-4837-b179-cb07affe5e5a\">\n",
              "    <div class=\"colab-df-container\">\n",
              "      <div>\n",
              "<style scoped>\n",
              "    .dataframe tbody tr th:only-of-type {\n",
              "        vertical-align: middle;\n",
              "    }\n",
              "\n",
              "    .dataframe tbody tr th {\n",
              "        vertical-align: top;\n",
              "    }\n",
              "\n",
              "    .dataframe thead th {\n",
              "        text-align: right;\n",
              "    }\n",
              "</style>\n",
              "<table border=\"1\" class=\"dataframe\">\n",
              "  <thead>\n",
              "    <tr style=\"text-align: right;\">\n",
              "      <th></th>\n",
              "      <th>Date</th>\n",
              "      <th>Open</th>\n",
              "      <th>High</th>\n",
              "      <th>Low</th>\n",
              "      <th>Last</th>\n",
              "      <th>Close</th>\n",
              "      <th>Total Trade Quantity</th>\n",
              "      <th>Turnover (Lacs)</th>\n",
              "    </tr>\n",
              "  </thead>\n",
              "  <tbody>\n",
              "    <tr>\n",
              "      <th>0</th>\n",
              "      <td>20180928.0</td>\n",
              "      <td>234.05</td>\n",
              "      <td>235.95</td>\n",
              "      <td>230.20</td>\n",
              "      <td>233.50</td>\n",
              "      <td>233.75</td>\n",
              "      <td>3069914.0</td>\n",
              "      <td>7162.35</td>\n",
              "    </tr>\n",
              "    <tr>\n",
              "      <th>1</th>\n",
              "      <td>20180927.0</td>\n",
              "      <td>234.55</td>\n",
              "      <td>236.80</td>\n",
              "      <td>231.10</td>\n",
              "      <td>233.80</td>\n",
              "      <td>233.25</td>\n",
              "      <td>5082859.0</td>\n",
              "      <td>11859.95</td>\n",
              "    </tr>\n",
              "    <tr>\n",
              "      <th>2</th>\n",
              "      <td>20180926.0</td>\n",
              "      <td>240.00</td>\n",
              "      <td>240.00</td>\n",
              "      <td>232.50</td>\n",
              "      <td>235.00</td>\n",
              "      <td>234.25</td>\n",
              "      <td>2240909.0</td>\n",
              "      <td>5248.60</td>\n",
              "    </tr>\n",
              "    <tr>\n",
              "      <th>3</th>\n",
              "      <td>20180925.0</td>\n",
              "      <td>233.30</td>\n",
              "      <td>236.75</td>\n",
              "      <td>232.00</td>\n",
              "      <td>236.25</td>\n",
              "      <td>236.10</td>\n",
              "      <td>2349368.0</td>\n",
              "      <td>5503.90</td>\n",
              "    </tr>\n",
              "    <tr>\n",
              "      <th>4</th>\n",
              "      <td>20180924.0</td>\n",
              "      <td>233.55</td>\n",
              "      <td>239.20</td>\n",
              "      <td>230.75</td>\n",
              "      <td>234.00</td>\n",
              "      <td>233.30</td>\n",
              "      <td>3423509.0</td>\n",
              "      <td>7999.55</td>\n",
              "    </tr>\n",
              "    <tr>\n",
              "      <th>...</th>\n",
              "      <td>...</td>\n",
              "      <td>...</td>\n",
              "      <td>...</td>\n",
              "      <td>...</td>\n",
              "      <td>...</td>\n",
              "      <td>...</td>\n",
              "      <td>...</td>\n",
              "      <td>...</td>\n",
              "    </tr>\n",
              "    <tr>\n",
              "      <th>2030</th>\n",
              "      <td>20100727.0</td>\n",
              "      <td>117.60</td>\n",
              "      <td>119.50</td>\n",
              "      <td>112.00</td>\n",
              "      <td>118.80</td>\n",
              "      <td>118.65</td>\n",
              "      <td>586100.0</td>\n",
              "      <td>694.98</td>\n",
              "    </tr>\n",
              "    <tr>\n",
              "      <th>2031</th>\n",
              "      <td>20100726.0</td>\n",
              "      <td>120.10</td>\n",
              "      <td>121.00</td>\n",
              "      <td>117.10</td>\n",
              "      <td>117.10</td>\n",
              "      <td>117.60</td>\n",
              "      <td>658440.0</td>\n",
              "      <td>780.01</td>\n",
              "    </tr>\n",
              "    <tr>\n",
              "      <th>2032</th>\n",
              "      <td>20100723.0</td>\n",
              "      <td>121.80</td>\n",
              "      <td>121.95</td>\n",
              "      <td>120.25</td>\n",
              "      <td>120.35</td>\n",
              "      <td>120.65</td>\n",
              "      <td>281312.0</td>\n",
              "      <td>340.31</td>\n",
              "    </tr>\n",
              "    <tr>\n",
              "      <th>2033</th>\n",
              "      <td>20100722.0</td>\n",
              "      <td>120.30</td>\n",
              "      <td>122.00</td>\n",
              "      <td>120.25</td>\n",
              "      <td>120.75</td>\n",
              "      <td>120.90</td>\n",
              "      <td>293312.0</td>\n",
              "      <td>355.17</td>\n",
              "    </tr>\n",
              "    <tr>\n",
              "      <th>2034</th>\n",
              "      <td>20100721.0</td>\n",
              "      <td>122.10</td>\n",
              "      <td>123.00</td>\n",
              "      <td>121.05</td>\n",
              "      <td>121.10</td>\n",
              "      <td>121.55</td>\n",
              "      <td>658666.0</td>\n",
              "      <td>803.56</td>\n",
              "    </tr>\n",
              "  </tbody>\n",
              "</table>\n",
              "<p>2035 rows × 8 columns</p>\n",
              "</div>\n",
              "      <button class=\"colab-df-convert\" onclick=\"convertToInteractive('df-719dd29e-4b71-4837-b179-cb07affe5e5a')\"\n",
              "              title=\"Convert this dataframe to an interactive table.\"\n",
              "              style=\"display:none;\">\n",
              "        \n",
              "  <svg xmlns=\"http://www.w3.org/2000/svg\" height=\"24px\"viewBox=\"0 0 24 24\"\n",
              "       width=\"24px\">\n",
              "    <path d=\"M0 0h24v24H0V0z\" fill=\"none\"/>\n",
              "    <path d=\"M18.56 5.44l.94 2.06.94-2.06 2.06-.94-2.06-.94-.94-2.06-.94 2.06-2.06.94zm-11 1L8.5 8.5l.94-2.06 2.06-.94-2.06-.94L8.5 2.5l-.94 2.06-2.06.94zm10 10l.94 2.06.94-2.06 2.06-.94-2.06-.94-.94-2.06-.94 2.06-2.06.94z\"/><path d=\"M17.41 7.96l-1.37-1.37c-.4-.4-.92-.59-1.43-.59-.52 0-1.04.2-1.43.59L10.3 9.45l-7.72 7.72c-.78.78-.78 2.05 0 2.83L4 21.41c.39.39.9.59 1.41.59.51 0 1.02-.2 1.41-.59l7.78-7.78 2.81-2.81c.8-.78.8-2.07 0-2.86zM5.41 20L4 18.59l7.72-7.72 1.47 1.35L5.41 20z\"/>\n",
              "  </svg>\n",
              "      </button>\n",
              "      \n",
              "  <style>\n",
              "    .colab-df-container {\n",
              "      display:flex;\n",
              "      flex-wrap:wrap;\n",
              "      gap: 12px;\n",
              "    }\n",
              "\n",
              "    .colab-df-convert {\n",
              "      background-color: #E8F0FE;\n",
              "      border: none;\n",
              "      border-radius: 50%;\n",
              "      cursor: pointer;\n",
              "      display: none;\n",
              "      fill: #1967D2;\n",
              "      height: 32px;\n",
              "      padding: 0 0 0 0;\n",
              "      width: 32px;\n",
              "    }\n",
              "\n",
              "    .colab-df-convert:hover {\n",
              "      background-color: #E2EBFA;\n",
              "      box-shadow: 0px 1px 2px rgba(60, 64, 67, 0.3), 0px 1px 3px 1px rgba(60, 64, 67, 0.15);\n",
              "      fill: #174EA6;\n",
              "    }\n",
              "\n",
              "    [theme=dark] .colab-df-convert {\n",
              "      background-color: #3B4455;\n",
              "      fill: #D2E3FC;\n",
              "    }\n",
              "\n",
              "    [theme=dark] .colab-df-convert:hover {\n",
              "      background-color: #434B5C;\n",
              "      box-shadow: 0px 1px 3px 1px rgba(0, 0, 0, 0.15);\n",
              "      filter: drop-shadow(0px 1px 2px rgba(0, 0, 0, 0.3));\n",
              "      fill: #FFFFFF;\n",
              "    }\n",
              "  </style>\n",
              "\n",
              "      <script>\n",
              "        const buttonEl =\n",
              "          document.querySelector('#df-719dd29e-4b71-4837-b179-cb07affe5e5a button.colab-df-convert');\n",
              "        buttonEl.style.display =\n",
              "          google.colab.kernel.accessAllowed ? 'block' : 'none';\n",
              "\n",
              "        async function convertToInteractive(key) {\n",
              "          const element = document.querySelector('#df-719dd29e-4b71-4837-b179-cb07affe5e5a');\n",
              "          const dataTable =\n",
              "            await google.colab.kernel.invokeFunction('convertToInteractive',\n",
              "                                                     [key], {});\n",
              "          if (!dataTable) return;\n",
              "\n",
              "          const docLinkHtml = 'Like what you see? Visit the ' +\n",
              "            '<a target=\"_blank\" href=https://colab.research.google.com/notebooks/data_table.ipynb>data table notebook</a>'\n",
              "            + ' to learn more about interactive tables.';\n",
              "          element.innerHTML = '';\n",
              "          dataTable['output_type'] = 'display_data';\n",
              "          await google.colab.output.renderOutput(dataTable, element);\n",
              "          const docLink = document.createElement('div');\n",
              "          docLink.innerHTML = docLinkHtml;\n",
              "          element.appendChild(docLink);\n",
              "        }\n",
              "      </script>\n",
              "    </div>\n",
              "  </div>\n",
              "  "
            ]
          },
          "metadata": {},
          "execution_count": 4
        }
      ]
    },
    {
      "cell_type": "markdown",
      "source": [
        "**Displaying information about dataset**"
      ],
      "metadata": {
        "id": "BU3b6_BtrkVp"
      }
    },
    {
      "cell_type": "code",
      "source": [
        "data.head"
      ],
      "metadata": {
        "colab": {
          "base_uri": "https://localhost:8080/"
        },
        "id": "zAE-aFk7m-5l",
        "outputId": "5fdb7bdc-ac79-4587-d42e-eb8843f97e02"
      },
      "execution_count": null,
      "outputs": [
        {
          "output_type": "execute_result",
          "data": {
            "text/plain": [
              "<bound method NDFrame.head of             Date    Open    High     Low    Last   Close  \\\n",
              "0     20180928.0  234.05  235.95  230.20  233.50  233.75   \n",
              "1     20180927.0  234.55  236.80  231.10  233.80  233.25   \n",
              "2     20180926.0  240.00  240.00  232.50  235.00  234.25   \n",
              "3     20180925.0  233.30  236.75  232.00  236.25  236.10   \n",
              "4     20180924.0  233.55  239.20  230.75  234.00  233.30   \n",
              "...          ...     ...     ...     ...     ...     ...   \n",
              "2030  20100727.0  117.60  119.50  112.00  118.80  118.65   \n",
              "2031  20100726.0  120.10  121.00  117.10  117.10  117.60   \n",
              "2032  20100723.0  121.80  121.95  120.25  120.35  120.65   \n",
              "2033  20100722.0  120.30  122.00  120.25  120.75  120.90   \n",
              "2034  20100721.0  122.10  123.00  121.05  121.10  121.55   \n",
              "\n",
              "      Total Trade Quantity  Turnover (Lacs)  \n",
              "0                3069914.0          7162.35  \n",
              "1                5082859.0         11859.95  \n",
              "2                2240909.0          5248.60  \n",
              "3                2349368.0          5503.90  \n",
              "4                3423509.0          7999.55  \n",
              "...                    ...              ...  \n",
              "2030              586100.0           694.98  \n",
              "2031              658440.0           780.01  \n",
              "2032              281312.0           340.31  \n",
              "2033              293312.0           355.17  \n",
              "2034              658666.0           803.56  \n",
              "\n",
              "[2035 rows x 8 columns]>"
            ]
          },
          "metadata": {},
          "execution_count": 5
        }
      ]
    },
    {
      "cell_type": "code",
      "source": [
        "data.info()"
      ],
      "metadata": {
        "colab": {
          "base_uri": "https://localhost:8080/"
        },
        "id": "Iprc5oebnCQL",
        "outputId": "0b839cd7-35d0-41e8-ae07-61ae139640b7"
      },
      "execution_count": null,
      "outputs": [
        {
          "output_type": "stream",
          "name": "stdout",
          "text": [
            "<class 'pandas.core.frame.DataFrame'>\n",
            "RangeIndex: 2035 entries, 0 to 2034\n",
            "Data columns (total 8 columns):\n",
            " #   Column                Non-Null Count  Dtype  \n",
            "---  ------                --------------  -----  \n",
            " 0   Date                  2035 non-null   float64\n",
            " 1   Open                  2035 non-null   float64\n",
            " 2   High                  2035 non-null   float64\n",
            " 3   Low                   2035 non-null   float64\n",
            " 4   Last                  2035 non-null   float64\n",
            " 5   Close                 2035 non-null   float64\n",
            " 6   Total Trade Quantity  2035 non-null   float64\n",
            " 7   Turnover (Lacs)       2035 non-null   float64\n",
            "dtypes: float64(8)\n",
            "memory usage: 127.3 KB\n"
          ]
        }
      ]
    },
    {
      "cell_type": "code",
      "source": [
        "data.describe()"
      ],
      "metadata": {
        "colab": {
          "base_uri": "https://localhost:8080/",
          "height": 300
        },
        "id": "RCPGenhLnGIa",
        "outputId": "2b430eb9-81c2-476a-d10f-03cb87bbf0ff"
      },
      "execution_count": null,
      "outputs": [
        {
          "output_type": "execute_result",
          "data": {
            "text/plain": [
              "               Date         Open         High          Low         Last  \\\n",
              "count  2.035000e+03  2035.000000  2035.000000  2035.000000  2035.000000   \n",
              "mean   2.014201e+07   149.713735   151.992826   147.293931   149.474251   \n",
              "std    2.394201e+04    48.664509    49.413109    47.931958    48.732570   \n",
              "min    2.010072e+07    81.100000    82.800000    80.000000    81.000000   \n",
              "25%    2.012073e+07   120.025000   122.100000   118.300000   120.075000   \n",
              "50%    2.014081e+07   141.500000   143.400000   139.600000   141.100000   \n",
              "75%    2.016091e+07   157.175000   159.400000   155.150000   156.925000   \n",
              "max    2.018093e+07   327.700000   328.750000   321.650000   325.950000   \n",
              "\n",
              "            Close  Total Trade Quantity  Turnover (Lacs)  \n",
              "count  2035.00000          2.035000e+03      2035.000000  \n",
              "mean    149.45027          2.335681e+06      3899.980565  \n",
              "std      48.71204          2.091778e+06      4570.767877  \n",
              "min      80.95000          3.961000e+04        37.040000  \n",
              "25%     120.05000          1.146444e+06      1427.460000  \n",
              "50%     141.25000          1.783456e+06      2512.030000  \n",
              "75%     156.90000          2.813594e+06      4539.015000  \n",
              "max     325.75000          2.919102e+07     55755.080000  "
            ],
            "text/html": [
              "\n",
              "  <div id=\"df-079ec5cb-67b2-4bc7-a08d-c3f4d0067445\">\n",
              "    <div class=\"colab-df-container\">\n",
              "      <div>\n",
              "<style scoped>\n",
              "    .dataframe tbody tr th:only-of-type {\n",
              "        vertical-align: middle;\n",
              "    }\n",
              "\n",
              "    .dataframe tbody tr th {\n",
              "        vertical-align: top;\n",
              "    }\n",
              "\n",
              "    .dataframe thead th {\n",
              "        text-align: right;\n",
              "    }\n",
              "</style>\n",
              "<table border=\"1\" class=\"dataframe\">\n",
              "  <thead>\n",
              "    <tr style=\"text-align: right;\">\n",
              "      <th></th>\n",
              "      <th>Date</th>\n",
              "      <th>Open</th>\n",
              "      <th>High</th>\n",
              "      <th>Low</th>\n",
              "      <th>Last</th>\n",
              "      <th>Close</th>\n",
              "      <th>Total Trade Quantity</th>\n",
              "      <th>Turnover (Lacs)</th>\n",
              "    </tr>\n",
              "  </thead>\n",
              "  <tbody>\n",
              "    <tr>\n",
              "      <th>count</th>\n",
              "      <td>2.035000e+03</td>\n",
              "      <td>2035.000000</td>\n",
              "      <td>2035.000000</td>\n",
              "      <td>2035.000000</td>\n",
              "      <td>2035.000000</td>\n",
              "      <td>2035.00000</td>\n",
              "      <td>2.035000e+03</td>\n",
              "      <td>2035.000000</td>\n",
              "    </tr>\n",
              "    <tr>\n",
              "      <th>mean</th>\n",
              "      <td>2.014201e+07</td>\n",
              "      <td>149.713735</td>\n",
              "      <td>151.992826</td>\n",
              "      <td>147.293931</td>\n",
              "      <td>149.474251</td>\n",
              "      <td>149.45027</td>\n",
              "      <td>2.335681e+06</td>\n",
              "      <td>3899.980565</td>\n",
              "    </tr>\n",
              "    <tr>\n",
              "      <th>std</th>\n",
              "      <td>2.394201e+04</td>\n",
              "      <td>48.664509</td>\n",
              "      <td>49.413109</td>\n",
              "      <td>47.931958</td>\n",
              "      <td>48.732570</td>\n",
              "      <td>48.71204</td>\n",
              "      <td>2.091778e+06</td>\n",
              "      <td>4570.767877</td>\n",
              "    </tr>\n",
              "    <tr>\n",
              "      <th>min</th>\n",
              "      <td>2.010072e+07</td>\n",
              "      <td>81.100000</td>\n",
              "      <td>82.800000</td>\n",
              "      <td>80.000000</td>\n",
              "      <td>81.000000</td>\n",
              "      <td>80.95000</td>\n",
              "      <td>3.961000e+04</td>\n",
              "      <td>37.040000</td>\n",
              "    </tr>\n",
              "    <tr>\n",
              "      <th>25%</th>\n",
              "      <td>2.012073e+07</td>\n",
              "      <td>120.025000</td>\n",
              "      <td>122.100000</td>\n",
              "      <td>118.300000</td>\n",
              "      <td>120.075000</td>\n",
              "      <td>120.05000</td>\n",
              "      <td>1.146444e+06</td>\n",
              "      <td>1427.460000</td>\n",
              "    </tr>\n",
              "    <tr>\n",
              "      <th>50%</th>\n",
              "      <td>2.014081e+07</td>\n",
              "      <td>141.500000</td>\n",
              "      <td>143.400000</td>\n",
              "      <td>139.600000</td>\n",
              "      <td>141.100000</td>\n",
              "      <td>141.25000</td>\n",
              "      <td>1.783456e+06</td>\n",
              "      <td>2512.030000</td>\n",
              "    </tr>\n",
              "    <tr>\n",
              "      <th>75%</th>\n",
              "      <td>2.016091e+07</td>\n",
              "      <td>157.175000</td>\n",
              "      <td>159.400000</td>\n",
              "      <td>155.150000</td>\n",
              "      <td>156.925000</td>\n",
              "      <td>156.90000</td>\n",
              "      <td>2.813594e+06</td>\n",
              "      <td>4539.015000</td>\n",
              "    </tr>\n",
              "    <tr>\n",
              "      <th>max</th>\n",
              "      <td>2.018093e+07</td>\n",
              "      <td>327.700000</td>\n",
              "      <td>328.750000</td>\n",
              "      <td>321.650000</td>\n",
              "      <td>325.950000</td>\n",
              "      <td>325.75000</td>\n",
              "      <td>2.919102e+07</td>\n",
              "      <td>55755.080000</td>\n",
              "    </tr>\n",
              "  </tbody>\n",
              "</table>\n",
              "</div>\n",
              "      <button class=\"colab-df-convert\" onclick=\"convertToInteractive('df-079ec5cb-67b2-4bc7-a08d-c3f4d0067445')\"\n",
              "              title=\"Convert this dataframe to an interactive table.\"\n",
              "              style=\"display:none;\">\n",
              "        \n",
              "  <svg xmlns=\"http://www.w3.org/2000/svg\" height=\"24px\"viewBox=\"0 0 24 24\"\n",
              "       width=\"24px\">\n",
              "    <path d=\"M0 0h24v24H0V0z\" fill=\"none\"/>\n",
              "    <path d=\"M18.56 5.44l.94 2.06.94-2.06 2.06-.94-2.06-.94-.94-2.06-.94 2.06-2.06.94zm-11 1L8.5 8.5l.94-2.06 2.06-.94-2.06-.94L8.5 2.5l-.94 2.06-2.06.94zm10 10l.94 2.06.94-2.06 2.06-.94-2.06-.94-.94-2.06-.94 2.06-2.06.94z\"/><path d=\"M17.41 7.96l-1.37-1.37c-.4-.4-.92-.59-1.43-.59-.52 0-1.04.2-1.43.59L10.3 9.45l-7.72 7.72c-.78.78-.78 2.05 0 2.83L4 21.41c.39.39.9.59 1.41.59.51 0 1.02-.2 1.41-.59l7.78-7.78 2.81-2.81c.8-.78.8-2.07 0-2.86zM5.41 20L4 18.59l7.72-7.72 1.47 1.35L5.41 20z\"/>\n",
              "  </svg>\n",
              "      </button>\n",
              "      \n",
              "  <style>\n",
              "    .colab-df-container {\n",
              "      display:flex;\n",
              "      flex-wrap:wrap;\n",
              "      gap: 12px;\n",
              "    }\n",
              "\n",
              "    .colab-df-convert {\n",
              "      background-color: #E8F0FE;\n",
              "      border: none;\n",
              "      border-radius: 50%;\n",
              "      cursor: pointer;\n",
              "      display: none;\n",
              "      fill: #1967D2;\n",
              "      height: 32px;\n",
              "      padding: 0 0 0 0;\n",
              "      width: 32px;\n",
              "    }\n",
              "\n",
              "    .colab-df-convert:hover {\n",
              "      background-color: #E2EBFA;\n",
              "      box-shadow: 0px 1px 2px rgba(60, 64, 67, 0.3), 0px 1px 3px 1px rgba(60, 64, 67, 0.15);\n",
              "      fill: #174EA6;\n",
              "    }\n",
              "\n",
              "    [theme=dark] .colab-df-convert {\n",
              "      background-color: #3B4455;\n",
              "      fill: #D2E3FC;\n",
              "    }\n",
              "\n",
              "    [theme=dark] .colab-df-convert:hover {\n",
              "      background-color: #434B5C;\n",
              "      box-shadow: 0px 1px 3px 1px rgba(0, 0, 0, 0.15);\n",
              "      filter: drop-shadow(0px 1px 2px rgba(0, 0, 0, 0.3));\n",
              "      fill: #FFFFFF;\n",
              "    }\n",
              "  </style>\n",
              "\n",
              "      <script>\n",
              "        const buttonEl =\n",
              "          document.querySelector('#df-079ec5cb-67b2-4bc7-a08d-c3f4d0067445 button.colab-df-convert');\n",
              "        buttonEl.style.display =\n",
              "          google.colab.kernel.accessAllowed ? 'block' : 'none';\n",
              "\n",
              "        async function convertToInteractive(key) {\n",
              "          const element = document.querySelector('#df-079ec5cb-67b2-4bc7-a08d-c3f4d0067445');\n",
              "          const dataTable =\n",
              "            await google.colab.kernel.invokeFunction('convertToInteractive',\n",
              "                                                     [key], {});\n",
              "          if (!dataTable) return;\n",
              "\n",
              "          const docLinkHtml = 'Like what you see? Visit the ' +\n",
              "            '<a target=\"_blank\" href=https://colab.research.google.com/notebooks/data_table.ipynb>data table notebook</a>'\n",
              "            + ' to learn more about interactive tables.';\n",
              "          element.innerHTML = '';\n",
              "          dataTable['output_type'] = 'display_data';\n",
              "          await google.colab.output.renderOutput(dataTable, element);\n",
              "          const docLink = document.createElement('div');\n",
              "          docLink.innerHTML = docLinkHtml;\n",
              "          element.appendChild(docLink);\n",
              "        }\n",
              "      </script>\n",
              "    </div>\n",
              "  </div>\n",
              "  "
            ]
          },
          "metadata": {},
          "execution_count": 7
        }
      ]
    },
    {
      "cell_type": "code",
      "source": [
        "data['Date'] = pd.to_datetime(data['Date'])\n",
        "data.dtypes"
      ],
      "metadata": {
        "colab": {
          "base_uri": "https://localhost:8080/"
        },
        "id": "mKNonW6jnLuF",
        "outputId": "5490e22b-ad88-42db-9810-742820410492"
      },
      "execution_count": null,
      "outputs": [
        {
          "output_type": "execute_result",
          "data": {
            "text/plain": [
              "Date                    datetime64[ns]\n",
              "Open                           float64\n",
              "High                           float64\n",
              "Low                            float64\n",
              "Last                           float64\n",
              "Close                          float64\n",
              "Total Trade Quantity           float64\n",
              "Turnover (Lacs)                float64\n",
              "dtype: object"
            ]
          },
          "metadata": {},
          "execution_count": 9
        }
      ]
    },
    {
      "cell_type": "markdown",
      "source": [
        "**Sorting the data according to data**"
      ],
      "metadata": {
        "id": "1zcySDh4rrRv"
      }
    },
    {
      "cell_type": "code",
      "source": [
        "data = data.sort_values('Date')\n",
        "data.head()"
      ],
      "metadata": {
        "colab": {
          "base_uri": "https://localhost:8080/",
          "height": 206
        },
        "id": "yBVjJnW1nPo7",
        "outputId": "d6d22eca-4d8c-4197-a030-f25369d0d1a5"
      },
      "execution_count": null,
      "outputs": [
        {
          "output_type": "execute_result",
          "data": {
            "text/plain": [
              "                              Date   Open    High     Low    Last   Close  \\\n",
              "2034 1970-01-01 00:00:00.020100721  122.1  123.00  121.05  121.10  121.55   \n",
              "2033 1970-01-01 00:00:00.020100722  120.3  122.00  120.25  120.75  120.90   \n",
              "2032 1970-01-01 00:00:00.020100723  121.8  121.95  120.25  120.35  120.65   \n",
              "2031 1970-01-01 00:00:00.020100726  120.1  121.00  117.10  117.10  117.60   \n",
              "2030 1970-01-01 00:00:00.020100727  117.6  119.50  112.00  118.80  118.65   \n",
              "\n",
              "      Total Trade Quantity  Turnover (Lacs)  \n",
              "2034              658666.0           803.56  \n",
              "2033              293312.0           355.17  \n",
              "2032              281312.0           340.31  \n",
              "2031              658440.0           780.01  \n",
              "2030              586100.0           694.98  "
            ],
            "text/html": [
              "\n",
              "  <div id=\"df-44360a0c-b13d-4427-a381-3ee86a0d2427\">\n",
              "    <div class=\"colab-df-container\">\n",
              "      <div>\n",
              "<style scoped>\n",
              "    .dataframe tbody tr th:only-of-type {\n",
              "        vertical-align: middle;\n",
              "    }\n",
              "\n",
              "    .dataframe tbody tr th {\n",
              "        vertical-align: top;\n",
              "    }\n",
              "\n",
              "    .dataframe thead th {\n",
              "        text-align: right;\n",
              "    }\n",
              "</style>\n",
              "<table border=\"1\" class=\"dataframe\">\n",
              "  <thead>\n",
              "    <tr style=\"text-align: right;\">\n",
              "      <th></th>\n",
              "      <th>Date</th>\n",
              "      <th>Open</th>\n",
              "      <th>High</th>\n",
              "      <th>Low</th>\n",
              "      <th>Last</th>\n",
              "      <th>Close</th>\n",
              "      <th>Total Trade Quantity</th>\n",
              "      <th>Turnover (Lacs)</th>\n",
              "    </tr>\n",
              "  </thead>\n",
              "  <tbody>\n",
              "    <tr>\n",
              "      <th>2034</th>\n",
              "      <td>1970-01-01 00:00:00.020100721</td>\n",
              "      <td>122.1</td>\n",
              "      <td>123.00</td>\n",
              "      <td>121.05</td>\n",
              "      <td>121.10</td>\n",
              "      <td>121.55</td>\n",
              "      <td>658666.0</td>\n",
              "      <td>803.56</td>\n",
              "    </tr>\n",
              "    <tr>\n",
              "      <th>2033</th>\n",
              "      <td>1970-01-01 00:00:00.020100722</td>\n",
              "      <td>120.3</td>\n",
              "      <td>122.00</td>\n",
              "      <td>120.25</td>\n",
              "      <td>120.75</td>\n",
              "      <td>120.90</td>\n",
              "      <td>293312.0</td>\n",
              "      <td>355.17</td>\n",
              "    </tr>\n",
              "    <tr>\n",
              "      <th>2032</th>\n",
              "      <td>1970-01-01 00:00:00.020100723</td>\n",
              "      <td>121.8</td>\n",
              "      <td>121.95</td>\n",
              "      <td>120.25</td>\n",
              "      <td>120.35</td>\n",
              "      <td>120.65</td>\n",
              "      <td>281312.0</td>\n",
              "      <td>340.31</td>\n",
              "    </tr>\n",
              "    <tr>\n",
              "      <th>2031</th>\n",
              "      <td>1970-01-01 00:00:00.020100726</td>\n",
              "      <td>120.1</td>\n",
              "      <td>121.00</td>\n",
              "      <td>117.10</td>\n",
              "      <td>117.10</td>\n",
              "      <td>117.60</td>\n",
              "      <td>658440.0</td>\n",
              "      <td>780.01</td>\n",
              "    </tr>\n",
              "    <tr>\n",
              "      <th>2030</th>\n",
              "      <td>1970-01-01 00:00:00.020100727</td>\n",
              "      <td>117.6</td>\n",
              "      <td>119.50</td>\n",
              "      <td>112.00</td>\n",
              "      <td>118.80</td>\n",
              "      <td>118.65</td>\n",
              "      <td>586100.0</td>\n",
              "      <td>694.98</td>\n",
              "    </tr>\n",
              "  </tbody>\n",
              "</table>\n",
              "</div>\n",
              "      <button class=\"colab-df-convert\" onclick=\"convertToInteractive('df-44360a0c-b13d-4427-a381-3ee86a0d2427')\"\n",
              "              title=\"Convert this dataframe to an interactive table.\"\n",
              "              style=\"display:none;\">\n",
              "        \n",
              "  <svg xmlns=\"http://www.w3.org/2000/svg\" height=\"24px\"viewBox=\"0 0 24 24\"\n",
              "       width=\"24px\">\n",
              "    <path d=\"M0 0h24v24H0V0z\" fill=\"none\"/>\n",
              "    <path d=\"M18.56 5.44l.94 2.06.94-2.06 2.06-.94-2.06-.94-.94-2.06-.94 2.06-2.06.94zm-11 1L8.5 8.5l.94-2.06 2.06-.94-2.06-.94L8.5 2.5l-.94 2.06-2.06.94zm10 10l.94 2.06.94-2.06 2.06-.94-2.06-.94-.94-2.06-.94 2.06-2.06.94z\"/><path d=\"M17.41 7.96l-1.37-1.37c-.4-.4-.92-.59-1.43-.59-.52 0-1.04.2-1.43.59L10.3 9.45l-7.72 7.72c-.78.78-.78 2.05 0 2.83L4 21.41c.39.39.9.59 1.41.59.51 0 1.02-.2 1.41-.59l7.78-7.78 2.81-2.81c.8-.78.8-2.07 0-2.86zM5.41 20L4 18.59l7.72-7.72 1.47 1.35L5.41 20z\"/>\n",
              "  </svg>\n",
              "      </button>\n",
              "      \n",
              "  <style>\n",
              "    .colab-df-container {\n",
              "      display:flex;\n",
              "      flex-wrap:wrap;\n",
              "      gap: 12px;\n",
              "    }\n",
              "\n",
              "    .colab-df-convert {\n",
              "      background-color: #E8F0FE;\n",
              "      border: none;\n",
              "      border-radius: 50%;\n",
              "      cursor: pointer;\n",
              "      display: none;\n",
              "      fill: #1967D2;\n",
              "      height: 32px;\n",
              "      padding: 0 0 0 0;\n",
              "      width: 32px;\n",
              "    }\n",
              "\n",
              "    .colab-df-convert:hover {\n",
              "      background-color: #E2EBFA;\n",
              "      box-shadow: 0px 1px 2px rgba(60, 64, 67, 0.3), 0px 1px 3px 1px rgba(60, 64, 67, 0.15);\n",
              "      fill: #174EA6;\n",
              "    }\n",
              "\n",
              "    [theme=dark] .colab-df-convert {\n",
              "      background-color: #3B4455;\n",
              "      fill: #D2E3FC;\n",
              "    }\n",
              "\n",
              "    [theme=dark] .colab-df-convert:hover {\n",
              "      background-color: #434B5C;\n",
              "      box-shadow: 0px 1px 3px 1px rgba(0, 0, 0, 0.15);\n",
              "      filter: drop-shadow(0px 1px 2px rgba(0, 0, 0, 0.3));\n",
              "      fill: #FFFFFF;\n",
              "    }\n",
              "  </style>\n",
              "\n",
              "      <script>\n",
              "        const buttonEl =\n",
              "          document.querySelector('#df-44360a0c-b13d-4427-a381-3ee86a0d2427 button.colab-df-convert');\n",
              "        buttonEl.style.display =\n",
              "          google.colab.kernel.accessAllowed ? 'block' : 'none';\n",
              "\n",
              "        async function convertToInteractive(key) {\n",
              "          const element = document.querySelector('#df-44360a0c-b13d-4427-a381-3ee86a0d2427');\n",
              "          const dataTable =\n",
              "            await google.colab.kernel.invokeFunction('convertToInteractive',\n",
              "                                                     [key], {});\n",
              "          if (!dataTable) return;\n",
              "\n",
              "          const docLinkHtml = 'Like what you see? Visit the ' +\n",
              "            '<a target=\"_blank\" href=https://colab.research.google.com/notebooks/data_table.ipynb>data table notebook</a>'\n",
              "            + ' to learn more about interactive tables.';\n",
              "          element.innerHTML = '';\n",
              "          dataTable['output_type'] = 'display_data';\n",
              "          await google.colab.output.renderOutput(dataTable, element);\n",
              "          const docLink = document.createElement('div');\n",
              "          docLink.innerHTML = docLinkHtml;\n",
              "          element.appendChild(docLink);\n",
              "        }\n",
              "      </script>\n",
              "    </div>\n",
              "  </div>\n",
              "  "
            ]
          },
          "metadata": {},
          "execution_count": 10
        }
      ]
    },
    {
      "cell_type": "markdown",
      "source": [
        "**Plotting graph for date and closing stock**"
      ],
      "metadata": {
        "id": "PFoLWXgur0YG"
      }
    },
    {
      "cell_type": "code",
      "source": [
        "plt.figure(figsize = (9,6))\n",
        "plt.title('Tata Stocks Closing Price')\n",
        "plt.plot(data['Close'],'g')\n",
        "plt.xlabel('Date',fontsize=10)\n",
        "plt.ylabel('Close',fontsize=10)"
      ],
      "metadata": {
        "colab": {
          "base_uri": "https://localhost:8080/",
          "height": 421
        },
        "id": "C2h0CubqnSb0",
        "outputId": "69f787e3-1634-4abc-e521-3a33da533222"
      },
      "execution_count": null,
      "outputs": [
        {
          "output_type": "execute_result",
          "data": {
            "text/plain": [
              "Text(0, 0.5, 'Close')"
            ]
          },
          "metadata": {},
          "execution_count": 13
        },
        {
          "output_type": "display_data",
          "data": {
            "text/plain": [
              "<Figure size 648x432 with 1 Axes>"
            ],
            "image/png": "[encoded data removed]"
          },
          "metadata": {
            "needs_background": "light"
          }
        }
      ]
    },
    {
      "cell_type": "code",
      "source": [
        "dcorr = data.corr()\n",
        "top_corr_features = dcorr.index\n",
        "plt.figure(figsize=(10,7))\n",
        "sns.heatmap(data[top_corr_features].corr(), annot=True, cmap=\"YlGnBu\")"
      ],
      "metadata": {
        "colab": {
          "base_uri": "https://localhost:8080/",
          "height": 539
        },
        "id": "cfuvaVlknWbE",
        "outputId": "828ac5a8-5fd1-4926-d7b3-fc03580d172c"
      },
      "execution_count": null,
      "outputs": [
        {
          "output_type": "execute_result",
          "data": {
            "text/plain": [
              "<matplotlib.axes._subplots.AxesSubplot at 0x7f9fd8fdd550>"
            ]
          },
          "metadata": {},
          "execution_count": 14
        },
        {
          "output_type": "display_data",
          "data": {
            "text/plain": [
              "<Figure size 720x504 with 2 Axes>"
            ],
            "image/png": "[encoded data removed]"
          },
          "metadata": {
            "needs_background": "light"
          }
        }
      ]
    },
    {
      "cell_type": "markdown",
      "source": [
        "**MinMaxScaler**"
      ],
      "metadata": {
        "id": "Xf5e2JEEsDpf"
      }
    },
    {
      "cell_type": "code",
      "source": [
        "data_close = data.reset_index()['Close']\n",
        "data_close.head()\n",
        "scaler = MinMaxScaler(feature_range = (0, 1))\n",
        "data_close = scaler.fit_transform(np.array(data_close).reshape(-1, 1))"
      ],
      "metadata": {
        "id": "D0sIng_knZ4h"
      },
      "execution_count": null,
      "outputs": []
    },
    {
      "cell_type": "code",
      "source": [
        "train_size = int(len(data_close)*0.70)\n",
        "test_size = len(data_close) - train_size\n",
        "train = data_close[0 : train_size, :]\n",
        "test = data_close[train_size : len(data_close), :1]"
      ],
      "metadata": {
        "id": "XUUYhz_9ndmZ"
      },
      "execution_count": null,
      "outputs": []
    },
    {
      "cell_type": "markdown",
      "source": [
        "**creating a matrix**"
      ],
      "metadata": {
        "id": "pbq_yOtesI_M"
      }
    },
    {
      "cell_type": "code",
      "source": [
        "def create_matrix(ds, time_step=1):\n",
        "    dataX, dataY = [], []\n",
        "    for i in range(len(ds)-time_step-1):\n",
        "        data = ds[i:(i+time_step),0]\n",
        "        dataX.append(data)\n",
        "        dataY.append(ds[i+time_step,0])\n",
        "    return np.array(dataX), np.array(dataY)"
      ],
      "metadata": {
        "id": "R6sxBcQJnh1k"
      },
      "execution_count": null,
      "outputs": []
    },
    {
      "cell_type": "code",
      "source": [
        "step=100 \n",
        "X_train, y_train = create_matrix(train, step)\n",
        "X_test, y_test = create_matrix(test, step)\n",
        "print(X_train.shape, y_train.shape)\n",
        "print(X_test.shape, y_test.shape)"
      ],
      "metadata": {
        "colab": {
          "base_uri": "https://localhost:8080/"
        },
        "id": "w27I69V9no4v",
        "outputId": "a0b4afb0-6156-42f3-d54b-1b541f274898"
      },
      "execution_count": null,
      "outputs": [
        {
          "output_type": "stream",
          "name": "stdout",
          "text": [
            "(1323, 100) (1323,)\n",
            "(510, 100) (510,)\n"
          ]
        }
      ]
    },
    {
      "cell_type": "markdown",
      "source": [
        "**Splitting data**"
      ],
      "metadata": {
        "id": "f62erYNTs0YL"
      }
    },
    {
      "cell_type": "code",
      "source": [
        "X_train = X_train.reshape(X_train.shape[0], X_train.shape[1], 1)\n",
        "X_test = X_test.reshape(X_test.shape[0], X_test.shape[1], 1)"
      ],
      "metadata": {
        "id": "XG6AyGrznrt9"
      },
      "execution_count": null,
      "outputs": []
    },
    {
      "cell_type": "code",
      "source": [
        "model = Sequential()\n",
        "model.add(LSTM(50, return_sequences=True,input_shape=(100,1)))\n",
        "model.add(LSTM(50,return_sequences=True))\n",
        "model.add(LSTM(50))\n",
        "model.add(Dense(1))\n",
        "model.compile(loss='mean_squared_error',optimizer='adam')"
      ],
      "metadata": {
        "id": "nyJKjSfjnuCX"
      },
      "execution_count": null,
      "outputs": []
    },
    {
      "cell_type": "code",
      "source": [
        "model.summary()"
      ],
      "metadata": {
        "colab": {
          "base_uri": "https://localhost:8080/"
        },
        "id": "Mk-5V5m2nwpD",
        "outputId": "e34e4142-998a-4c3f-c5c2-085b19c6d57d"
      },
      "execution_count": null,
      "outputs": [
        {
          "output_type": "stream",
          "name": "stdout",
          "text": [
            "Model: \"sequential\"\n",
            "_________________________________________________________________\n",
            " Layer (type)                Output Shape              Param #   \n",
            "=================================================================\n",
            " lstm (LSTM)                 (None, 100, 50)           10400     \n",
            "                                                                 \n",
            " lstm_1 (LSTM)               (None, 100, 50)           20200     \n",
            "                                                                 \n",
            " lstm_2 (LSTM)               (None, 50)                20200     \n",
            "                                                                 \n",
            " dense (Dense)               (None, 1)                 51        \n",
            "                                                                 \n",
            "=================================================================\n",
            "Total params: 50,851\n",
            "Trainable params: 50,851\n",
            "Non-trainable params: 0\n",
            "_________________________________________________________________\n"
          ]
        }
      ]
    },
    {
      "cell_type": "code",
      "source": [
        "history = model.fit(X_train, y_train, validation_split=0.1, epochs=77, batch_size=64, verbose=1, shuffle=True).history"
      ],
      "metadata": {
        "colab": {
          "base_uri": "https://localhost:8080/"
        },
        "id": "Ebu2xt9Inz9n",
        "outputId": "f8fa5062-7d42-49c3-b780-e036afc19398"
      },
      "execution_count": null,
      "outputs": [
        {
          "output_type": "stream",
          "name": "stdout",
          "text": [
            "Epoch 1/77\n",
            "19/19 [==============================] - 12s 300ms/step - loss: 0.0109 - val_loss: 0.0014\n",
            "Epoch 2/77\n",
            "19/19 [==============================] - 8s 426ms/step - loss: 0.0017 - val_loss: 0.0015\n",
            "Epoch 3/77\n",
            "19/19 [==============================] - 5s 290ms/step - loss: 0.0011 - val_loss: 0.0013\n",
            "Epoch 4/77\n",
            "19/19 [==============================] - 4s 194ms/step - loss: 8.9875e-04 - val_loss: 0.0012\n",
            "Epoch 5/77\n",
            "19/19 [==============================] - 4s 192ms/step - loss: 8.2538e-04 - val_loss: 0.0011\n",
            "Epoch 6/77\n",
            "19/19 [==============================] - 4s 225ms/step - loss: 8.0418e-04 - val_loss: 0.0011\n",
            "Epoch 7/77\n",
            "19/19 [==============================] - 4s 194ms/step - loss: 7.7137e-04 - val_loss: 0.0010\n",
            "Epoch 8/77\n",
            "19/19 [==============================] - 5s 251ms/step - loss: 7.5149e-04 - val_loss: 9.6670e-04\n",
            "Epoch 9/77\n",
            "19/19 [==============================] - 5s 281ms/step - loss: 7.1248e-04 - val_loss: 0.0010\n",
            "Epoch 10/77\n",
            "19/19 [==============================] - 6s 292ms/step - loss: 6.9473e-04 - val_loss: 9.4748e-04\n",
            "Epoch 11/77\n",
            "19/19 [==============================] - 7s 361ms/step - loss: 6.8409e-04 - val_loss: 8.9849e-04\n",
            "Epoch 12/77\n",
            "19/19 [==============================] - 4s 192ms/step - loss: 6.5133e-04 - val_loss: 8.2059e-04\n",
            "Epoch 13/77\n",
            "19/19 [==============================] - 4s 196ms/step - loss: 6.2312e-04 - val_loss: 7.2151e-04\n",
            "Epoch 14/77\n",
            "19/19 [==============================] - 4s 224ms/step - loss: 5.9114e-04 - val_loss: 7.8823e-04\n",
            "Epoch 15/77\n",
            "19/19 [==============================] - 4s 195ms/step - loss: 5.8867e-04 - val_loss: 6.2506e-04\n",
            "Epoch 16/77\n",
            "19/19 [==============================] - 4s 194ms/step - loss: 5.6221e-04 - val_loss: 6.3785e-04\n",
            "Epoch 17/77\n",
            "19/19 [==============================] - 4s 231ms/step - loss: 5.9751e-04 - val_loss: 6.1476e-04\n",
            "Epoch 18/77\n",
            "19/19 [==============================] - 6s 298ms/step - loss: 5.4575e-04 - val_loss: 5.6689e-04\n",
            "Epoch 19/77\n",
            "19/19 [==============================] - 5s 266ms/step - loss: 5.2877e-04 - val_loss: 5.3452e-04\n",
            "Epoch 20/77\n",
            "19/19 [==============================] - 5s 250ms/step - loss: 4.8381e-04 - val_loss: 5.6175e-04\n",
            "Epoch 21/77\n",
            "19/19 [==============================] - 4s 194ms/step - loss: 4.7234e-04 - val_loss: 5.3640e-04\n",
            "Epoch 22/77\n",
            "19/19 [==============================] - 5s 262ms/step - loss: 4.5722e-04 - val_loss: 4.7048e-04\n",
            "Epoch 23/77\n",
            "19/19 [==============================] - 5s 272ms/step - loss: 4.3928e-04 - val_loss: 4.4790e-04\n",
            "Epoch 24/77\n",
            "19/19 [==============================] - 5s 233ms/step - loss: 4.4351e-04 - val_loss: 5.4137e-04\n",
            "Epoch 25/77\n",
            "19/19 [==============================] - 5s 271ms/step - loss: 4.3634e-04 - val_loss: 4.2759e-04\n",
            "Epoch 26/77\n",
            "19/19 [==============================] - 5s 258ms/step - loss: 4.3022e-04 - val_loss: 4.1180e-04\n",
            "Epoch 27/77\n",
            "19/19 [==============================] - 5s 242ms/step - loss: 3.9303e-04 - val_loss: 3.8050e-04\n",
            "Epoch 28/77\n",
            "19/19 [==============================] - 4s 197ms/step - loss: 4.0648e-04 - val_loss: 4.0585e-04\n",
            "Epoch 29/77\n",
            "19/19 [==============================] - 4s 196ms/step - loss: 3.7412e-04 - val_loss: 3.5421e-04\n",
            "Epoch 30/77\n",
            "19/19 [==============================] - 4s 198ms/step - loss: 3.5620e-04 - val_loss: 3.3413e-04\n",
            "Epoch 31/77\n",
            "19/19 [==============================] - 4s 196ms/step - loss: 3.5783e-04 - val_loss: 3.5671e-04\n",
            "Epoch 32/77\n",
            "19/19 [==============================] - 5s 286ms/step - loss: 3.5719e-04 - val_loss: 3.1794e-04\n",
            "Epoch 33/77\n",
            "19/19 [==============================] - 6s 308ms/step - loss: 3.5331e-04 - val_loss: 3.0855e-04\n",
            "Epoch 34/77\n",
            "19/19 [==============================] - 7s 357ms/step - loss: 3.1215e-04 - val_loss: 2.9872e-04\n",
            "Epoch 35/77\n",
            "19/19 [==============================] - 5s 257ms/step - loss: 3.2503e-04 - val_loss: 2.7708e-04\n",
            "Epoch 36/77\n",
            "19/19 [==============================] - 4s 193ms/step - loss: 3.3022e-04 - val_loss: 2.9605e-04\n",
            "Epoch 37/77\n",
            "19/19 [==============================] - 4s 199ms/step - loss: 2.8567e-04 - val_loss: 2.5716e-04\n",
            "Epoch 38/77\n",
            "19/19 [==============================] - 4s 199ms/step - loss: 2.7989e-04 - val_loss: 2.5324e-04\n",
            "Epoch 39/77\n",
            "19/19 [==============================] - 4s 198ms/step - loss: 2.9613e-04 - val_loss: 2.6208e-04\n",
            "Epoch 40/77\n",
            "19/19 [==============================] - 4s 197ms/step - loss: 2.6511e-04 - val_loss: 2.4277e-04\n",
            "Epoch 41/77\n",
            "19/19 [==============================] - 5s 252ms/step - loss: 2.5850e-04 - val_loss: 2.2274e-04\n",
            "Epoch 42/77\n",
            "19/19 [==============================] - 6s 312ms/step - loss: 2.5552e-04 - val_loss: 2.1945e-04\n",
            "Epoch 43/77\n",
            "19/19 [==============================] - 5s 278ms/step - loss: 2.4653e-04 - val_loss: 2.1506e-04\n",
            "Epoch 44/77\n",
            "19/19 [==============================] - 5s 270ms/step - loss: 2.7169e-04 - val_loss: 2.1116e-04\n",
            "Epoch 45/77\n",
            "19/19 [==============================] - 4s 230ms/step - loss: 2.7296e-04 - val_loss: 4.0147e-04\n",
            "Epoch 46/77\n",
            "19/19 [==============================] - 5s 261ms/step - loss: 2.6136e-04 - val_loss: 1.9862e-04\n",
            "Epoch 47/77\n",
            "19/19 [==============================] - 4s 191ms/step - loss: 2.3155e-04 - val_loss: 1.9596e-04\n",
            "Epoch 48/77\n",
            "19/19 [==============================] - 4s 193ms/step - loss: 2.2376e-04 - val_loss: 1.9802e-04\n",
            "Epoch 49/77\n",
            "19/19 [==============================] - 4s 194ms/step - loss: 2.1209e-04 - val_loss: 2.0467e-04\n",
            "Epoch 50/77\n",
            "19/19 [==============================] - 4s 190ms/step - loss: 2.0969e-04 - val_loss: 1.8927e-04\n",
            "Epoch 51/77\n",
            "19/19 [==============================] - 4s 192ms/step - loss: 2.1969e-04 - val_loss: 1.7257e-04\n",
            "Epoch 52/77\n",
            "19/19 [==============================] - 4s 223ms/step - loss: 2.2396e-04 - val_loss: 1.7093e-04\n",
            "Epoch 53/77\n",
            "19/19 [==============================] - 7s 389ms/step - loss: 2.0300e-04 - val_loss: 1.8446e-04\n",
            "Epoch 54/77\n",
            "19/19 [==============================] - 4s 202ms/step - loss: 2.0074e-04 - val_loss: 1.8141e-04\n",
            "Epoch 55/77\n",
            "19/19 [==============================] - 4s 208ms/step - loss: 2.0295e-04 - val_loss: 1.7568e-04\n",
            "Epoch 56/77\n",
            "19/19 [==============================] - 4s 203ms/step - loss: 1.9572e-04 - val_loss: 1.6297e-04\n",
            "Epoch 57/77\n",
            "19/19 [==============================] - 4s 201ms/step - loss: 1.8428e-04 - val_loss: 1.5280e-04\n",
            "Epoch 58/77\n",
            "19/19 [==============================] - 4s 198ms/step - loss: 1.7941e-04 - val_loss: 1.5198e-04\n",
            "Epoch 59/77\n",
            "19/19 [==============================] - 4s 199ms/step - loss: 1.7957e-04 - val_loss: 1.6530e-04\n",
            "Epoch 60/77\n",
            "19/19 [==============================] - 4s 196ms/step - loss: 1.8640e-04 - val_loss: 1.4503e-04\n",
            "Epoch 61/77\n",
            "19/19 [==============================] - 4s 200ms/step - loss: 1.7919e-04 - val_loss: 1.4391e-04\n",
            "Epoch 62/77\n",
            "19/19 [==============================] - 4s 203ms/step - loss: 1.6726e-04 - val_loss: 1.4357e-04\n",
            "Epoch 63/77\n",
            "19/19 [==============================] - 4s 199ms/step - loss: 1.7153e-04 - val_loss: 1.6371e-04\n",
            "Epoch 64/77\n",
            "19/19 [==============================] - 4s 200ms/step - loss: 1.6514e-04 - val_loss: 1.3779e-04\n",
            "Epoch 65/77\n",
            "19/19 [==============================] - 4s 204ms/step - loss: 1.6424e-04 - val_loss: 1.4151e-04\n",
            "Epoch 66/77\n",
            "19/19 [==============================] - 4s 200ms/step - loss: 1.5938e-04 - val_loss: 1.3896e-04\n",
            "Epoch 67/77\n",
            "19/19 [==============================] - 4s 193ms/step - loss: 1.5426e-04 - val_loss: 1.2675e-04\n",
            "Epoch 68/77\n",
            "19/19 [==============================] - 4s 196ms/step - loss: 1.5802e-04 - val_loss: 1.3233e-04\n",
            "Epoch 69/77\n",
            "19/19 [==============================] - 4s 193ms/step - loss: 1.6982e-04 - val_loss: 1.6247e-04\n",
            "Epoch 70/77\n",
            "19/19 [==============================] - 4s 196ms/step - loss: 1.7331e-04 - val_loss: 1.3833e-04\n",
            "Epoch 71/77\n",
            "19/19 [==============================] - 4s 195ms/step - loss: 1.5469e-04 - val_loss: 1.3258e-04\n",
            "Epoch 72/77\n",
            "19/19 [==============================] - 4s 194ms/step - loss: 1.4880e-04 - val_loss: 1.4798e-04\n",
            "Epoch 73/77\n",
            "19/19 [==============================] - 4s 234ms/step - loss: 1.6790e-04 - val_loss: 1.2291e-04\n",
            "Epoch 74/77\n",
            "19/19 [==============================] - 4s 192ms/step - loss: 1.5894e-04 - val_loss: 1.6775e-04\n",
            "Epoch 75/77\n",
            "19/19 [==============================] - 4s 192ms/step - loss: 1.5612e-04 - val_loss: 1.2035e-04\n",
            "Epoch 76/77\n",
            "19/19 [==============================] - 4s 202ms/step - loss: 1.7364e-04 - val_loss: 1.2347e-04\n",
            "Epoch 77/77\n",
            "19/19 [==============================] - 4s 204ms/step - loss: 1.4602e-04 - val_loss: 1.3046e-04\n"
          ]
        }
      ]
    },
    {
      "cell_type": "markdown",
      "source": [
        "**Predicting the model**"
      ],
      "metadata": {
        "id": "J6nIQ617s87j"
      }
    },
    {
      "cell_type": "code",
      "source": [
        "train_predict = model.predict(X_train)\n",
        "test_predict = model.predict(X_test)"
      ],
      "metadata": {
        "colab": {
          "base_uri": "https://localhost:8080/"
        },
        "id": "T3yTJiysn5fd",
        "outputId": "f5d98d13-90fa-4cc5-b673-fe1c894ffa5e"
      },
      "execution_count": null,
      "outputs": [
        {
          "output_type": "stream",
          "name": "stdout",
          "text": [
            "42/42 [==============================] - 3s 38ms/step\n",
            "16/16 [==============================] - 1s 41ms/step\n"
          ]
        }
      ]
    },
    {
      "cell_type": "markdown",
      "source": [
        "**Reversing the MinMax Scaler**"
      ],
      "metadata": {
        "id": "sL7F-9TwtDUK"
      }
    },
    {
      "cell_type": "code",
      "source": [
        "train_predict = scaler.inverse_transform(train_predict)\n",
        "test_predict = scaler.inverse_transform(test_predict)"
      ],
      "metadata": {
        "id": "_Xsd7d3WpK9p"
      },
      "execution_count": null,
      "outputs": []
    },
    {
      "cell_type": "code",
      "source": [
        "math.sqrt(mean_squared_error(y_train, train_predict))\n",
        "math.sqrt(mean_squared_error(y_test,test_predict))"
      ],
      "metadata": {
        "colab": {
          "base_uri": "https://localhost:8080/"
        },
        "id": "wslKbUgtpRVL",
        "outputId": "51ff1080-8b4d-45c7-fa3f-497897f640e7"
      },
      "execution_count": null,
      "outputs": [
        {
          "output_type": "execute_result",
          "data": {
            "text/plain": [
              "205.3708341093126"
            ]
          },
          "metadata": {},
          "execution_count": 27
        }
      ]
    },
    {
      "cell_type": "markdown",
      "source": [
        "**Visualise the Predictions**\n"
      ],
      "metadata": {
        "id": "jNSc8WyVtNhl"
      }
    },
    {
      "cell_type": "code",
      "source": [
        "look_back = 100\n",
        "train_num_pyredict_plot = np.empty_like(data_close)\n",
        "train_num_pyredict_plot[:, :] = np.nan\n",
        "train_num_pyredict_plot[look_back : len(train_predict) + look_back, :] = train_predict\n",
        "test_predict_plot = np.empty_like(data_close)\n",
        "test_predict_plot[:, :] = np.nan\n",
        "test_predict_plot[len(train_predict) + (look_back * 2) + 1 : len(data_close) - 1, :] = test_predict\n",
        "plt.plot(scaler.inverse_transform(data_close))\n",
        "plt.plot(train_num_pyredict_plot)\n",
        "plt.plot(test_predict_plot)\n",
        "plt.show()"
      ],
      "metadata": {
        "colab": {
          "base_uri": "https://localhost:8080/",
          "height": 265
        },
        "id": "v4oPinngpWEk",
        "outputId": "e64e35a3-21a3-492a-b11c-65109b58cbb3"
      },
      "execution_count": null,
      "outputs": [
        {
          "output_type": "display_data",
          "data": {
            "text/plain": [
              "<Figure size 432x288 with 1 Axes>"
            ],
            "image/png": "[encoded data removed]"
          },
          "metadata": {
            "needs_background": "light"
          }
        }
      ]
    },
    {
      "cell_type": "markdown",
      "source": [
        "**Future Prediction Model**"
      ],
      "metadata": {
        "id": "YdgxfGeEtYIH"
      }
    },
    {
      "cell_type": "code",
      "source": [
        "x_inum_pyut=test[307:].reshape(1, -1)\n",
        "x_inum_pyut.shape\n",
        "temp_inum_pyut = list(x_inum_pyut)\n",
        "temp_inum_pyut = temp_inum_pyut[0].tolist()\n",
        "temp_inum_pyut = list(x_inum_pyut)\n",
        "temp_inum_pyut = temp_inum_pyut[0].tolist()"
      ],
      "metadata": {
        "id": "gGuWiVTypZYL"
      },
      "execution_count": null,
      "outputs": []
    },
    {
      "cell_type": "code",
      "source": [
        "day_new = np.arange(1, 101)\n",
        "day_pred = np.arange(101, 131)\n",
        "plt.plot(day_new, scaler.inverse_transform(data_close[1935 : ]))"
      ],
      "metadata": {
        "colab": {
          "base_uri": "https://localhost:8080/",
          "height": 282
        },
        "id": "_aE1cJEApgHi",
        "outputId": "d92511fb-fce1-4a54-a56f-ac85eb45060f"
      },
      "execution_count": null,
      "outputs": [
        {
          "output_type": "execute_result",
          "data": {
            "text/plain": [
              "[<matplotlib.lines.Line2D at 0x7f9fd165aac0>]"
            ]
          },
          "metadata": {},
          "execution_count": 30
        },
        {
          "output_type": "display_data",
          "data": {
            "text/plain": [
              "<Figure size 432x288 with 1 Axes>"
            ],
            "image/png": "[encoded data removed]"
          },
          "metadata": {
            "needs_background": "light"
          }
        }
      ]
    }
  ]
}